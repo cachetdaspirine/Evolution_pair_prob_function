{
 "cells": [
  {
   "cell_type": "code",
   "execution_count": 1,
   "metadata": {},
   "outputs": [],
   "source": [
    "import importlib\n",
    "import Parallel_pair_correlation_HDF5\n",
    "importlib.reload(Parallel_pair_correlation_HDF5)\n",
    "from Parallel_pair_correlation_HDF5 import *\n",
    "\n",
    "import matplotlib.pyplot as plt\n",
    "import sys\n",
    "\n",
    "sys.path.append('/home/hcleroy/Extra_Module_py')\n",
    "sys.path.append('/home/hugo/Extra_Module_py')\n",
    "import formated_matplotlib\n",
    "\n",
    "Ec = lambda L,N : 3/2*np.log(L/N* np.pi/3)"
   ]
  },
  {
   "cell_type": "code",
   "execution_count": 2,
   "metadata": {},
   "outputs": [],
   "source": [
    "file = pt.open_file('20_linker_Ell_10E3.hdf','r')"
   ]
  },
  {
   "cell_type": "code",
   "execution_count": 3,
   "metadata": {},
   "outputs": [],
   "source": [
    "pcfs = np.zeros((10,30,2))\n",
    "n= 0.\n",
    "for group in file.walk_nodes('/',classname='Group'):\n",
    "    n+=1\n",
    "    for i,array in enumerate(file.list_nodes(group._v_pathname,classname='Array')):\n",
    "        pcfs[i] += array.read()\n",
    "pcfs /= n\n",
    "#array = file.get_node('/bin_hist_0x10c66/')"
   ]
  },
  {
   "cell_type": "code",
   "execution_count": 4,
   "metadata": {},
   "outputs": [
    {
     "ename": "NameError",
     "evalue": "name 'ell_tot' is not defined",
     "output_type": "error",
     "traceback": [
      "\u001b[0;31m---------------------------------------------------------------------------\u001b[0m",
      "\u001b[0;31mNameError\u001b[0m                                 Traceback (most recent call last)",
      "Cell \u001b[0;32mIn[4], line 2\u001b[0m\n\u001b[1;32m      1\u001b[0m \u001b[39mfor\u001b[39;00m xy \u001b[39min\u001b[39;00m pcfs:\n\u001b[0;32m----> 2\u001b[0m     x,y \u001b[39m=\u001b[39m compute_cumulative_distribution(xy[:,\u001b[39m1\u001b[39m]\u001b[39m/\u001b[39m(\u001b[39m20\u001b[39m\u001b[39m*\u001b[39m\u001b[39m19\u001b[39m\u001b[39m/\u001b[39m\u001b[39m2\u001b[39m),\u001b[39m30\u001b[39m,np\u001b[39m.\u001b[39msqrt(ell_tot))\n\u001b[1;32m      3\u001b[0m     plt\u001b[39m.\u001b[39mplot(x,y)\n\u001b[1;32m      4\u001b[0m     \u001b[39m#plt.plot(xy[:,0],xy[:,1])\u001b[39;00m\n",
      "\u001b[0;31mNameError\u001b[0m: name 'ell_tot' is not defined"
     ]
    }
   ],
   "source": [
    "for xy in pcfs:\n",
    "    x,y = compute_cumulative_distribution(xy[:,1]/(20*19/2),30,np.sqrt(ell_tot))\n",
    "    plt.plot(x,y)\n",
    "    #plt.plot(xy[:,0],xy[:,1])\n",
    "plt.plot([0,30],[0.5,0.5])\n",
    "plt.xlim(0,10)\n",
    "#plt.yscale('log')"
   ]
  },
  {
   "cell_type": "code",
   "execution_count": null,
   "metadata": {},
   "outputs": [],
   "source": [
    "from scipy.interpolate import interp1d\n",
    "from scipy.optimize import root_scalar\n",
    "\n",
    "def find_intersection(x, y, X, Y):\n",
    "    # Create function for the curve\n",
    "    curve = interp1d(x, y, kind='cubic', fill_value='extrapolate')\n",
    "\n",
    "    # Define function for the line\n",
    "    def line(x):\n",
    "        m = (Y[1] - Y[0]) / (X[1] - X[0])  # Slope of the line\n",
    "        b = Y[0] - m * X[0]  # Y-intercept of the line\n",
    "        return m * x + b\n",
    "\n",
    "    # Define function for the difference between the line and the curve\n",
    "    def line_minus_curve(x):\n",
    "        return line(x) - curve(x)\n",
    "\n",
    "    # Initial guess for the root finding algorithm (midpoint of the x range)\n",
    "    x0 = 0\n",
    "\n",
    "    # Find intersection point\n",
    "    sol = root_scalar(line_minus_curve, bracket=[x[0], x[-1]])\n",
    "    \n",
    "    intersection_x = sol.root\n",
    "    intersection_y = line(intersection_x)\n",
    "\n",
    "    return intersection_x, line(intersection_x)\n"
   ]
  },
  {
   "cell_type": "code",
   "execution_count": null,
   "metadata": {},
   "outputs": [],
   "source": [
    "x,y = compute_cumulative_distribution(pcfs[0][:,1]/(20*19/2),30,np.sqrt(ell_tot))\n",
    "print(find_intersection(x,y,[0,30],[0.25,0.25]))\n",
    "x,y = compute_cumulative_distribution(pcfs[-1][:,1]/(20*19/2),30,np.sqrt(ell_tot))\n",
    "print(find_intersection(x,y,[0,30],[0.25,0.25]))"
   ]
  },
  {
   "cell_type": "code",
   "execution_count": null,
   "metadata": {},
   "outputs": [],
   "source": []
  }
 ],
 "metadata": {
  "kernelspec": {
   "display_name": "Python 3",
   "language": "python",
   "name": "python3"
  },
  "language_info": {
   "codemirror_mode": {
    "name": "ipython",
    "version": 3
   },
   "file_extension": ".py",
   "mimetype": "text/x-python",
   "name": "python",
   "nbconvert_exporter": "python",
   "pygments_lexer": "ipython3",
   "version": "3.8.8"
  },
  "orig_nbformat": 4
 },
 "nbformat": 4,
 "nbformat_minor": 2
}
