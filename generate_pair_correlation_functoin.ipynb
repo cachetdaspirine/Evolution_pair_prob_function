{
 "cells": [
  {
   "cell_type": "code",
   "execution_count": 48,
   "metadata": {},
   "outputs": [],
   "source": [
    "import importlib\n",
    "import Parallel_pair_correlation_HDF5\n",
    "importlib.reload(Parallel_pair_correlation_HDF5)\n",
    "from Parallel_pair_correlation_HDF5 import *\n",
    "\n",
    "import matplotlib.pyplot as plt\n",
    "import sys\n",
    "\n",
    "sys.path.append('/home/hcleroy/PostDoc/aging_condensates/Simulation/Gillespie/Analysis/')\n",
    "sys.path.append('/home/hugo/PostDoc/aging_condensates/Gillespie/Analysis/')\n",
    "from ToolBox import *\n",
    "\n",
    "sys.path.append('/home/hcleroy/PostDoc/aging_condensates/Simulation/Gillespie/Gillespie_backend')\n",
    "import Gillespie_backend as Gil\n",
    "\n",
    "sys.path.append('/home/hcleroy/Extra_Module_py')\n",
    "sys.path.append('/home/hugo/Extra_Module_py')\n",
    "import formated_matplotlib\n",
    "\n",
    "Ec = lambda L,N : 3/2*np.log(L/N* np.pi/3)"
   ]
  },
  {
   "cell_type": "code",
   "execution_count": 49,
   "metadata": {},
   "outputs": [
    {
     "name": "stdout",
     "output_type": "stream",
     "text": [
      "5.937210903914155\n"
     ]
    }
   ],
   "source": [
    "# gillespie parameter\n",
    "Nlinker = 20\n",
    "ell_tot = 10**3\n",
    "V = 2*((ell_tot/6)**1.5/Nlinker**0.5*3/4*np.pi)\n",
    "kdiff = 100/(V) # for 3D\n",
    "Energy = -15\n",
    "Nprocess = 100\n",
    "args = [[ell_tot,Energy,kdiff,np.random.randint(1000000),Nlinker,3] for _ in range(Nprocess)]\n",
    "print(Ec(ell_tot,Nlinker))\n",
    "# Simulation parameters\n",
    "step_tot = 100000\n",
    "compute_steps = 30"
   ]
  },
  {
   "cell_type": "code",
   "execution_count": 50,
   "metadata": {},
   "outputs": [
    {
     "name": "stderr",
     "output_type": "stream",
     "text": [
      "Process Process-53:\n",
      "Traceback (most recent call last):\n",
      "  File \"/home/hcleroy/anaconda3/lib/python3.8/multiprocessing/process.py\", line 108, in run\n",
      "    self._target(*self._args, **self._kwargs)\n",
      "  File \"/home/hcleroy/anaconda3/lib/python3.8/multiprocessing/process.py\", line 315, in _bootstrap\n",
      "    self.run()\n",
      "  File \"/home/hcleroy/PostDoc/aging_condensates/Simulation/Evolution_of_pair_prob_distrib/Parallel_pair_correlation_HDF5.py\", line 95, in handle_output\n",
      "    hdf = pt.open_file(filename, mode='w') # open a hdf5 file\n",
      "  File \"/home/hcleroy/anaconda3/lib/python3.8/site-packages/tables/file.py\", line 300, in open_file\n",
      "    return File(filename, mode, title, root_uep, filters, **kwargs)\n",
      "  File \"/home/hcleroy/anaconda3/lib/python3.8/site-packages/tables/file.py\", line 750, in __init__\n",
      "    self._g_new(filename, mode, **params)\n",
      "  File \"tables/hdf5extension.pyx\", line 486, in tables.hdf5extension.File._g_new\n",
      "tables.exceptions.HDF5ExtError: HDF5 error back trace\n",
      "\n",
      "  File \"H5F.c\", line 444, in H5Fcreate\n",
      "    unable to create file\n",
      "  File \"H5Fint.c\", line 1567, in H5F_open\n",
      "    unable to lock the file\n",
      "  File \"H5FD.c\", line 1640, in H5FD_lock\n",
      "    driver lock request failed\n",
      "  File \"H5FDsec2.c\", line 959, in H5FD_sec2_lock\n",
      "    unable to lock file, errno = 11, error message = 'Resource temporarily unavailable'\n",
      "\n",
      "End of HDF5 error back trace\n",
      "\n",
      "Unable to open/create file '20_linker_Ell_10E3.hdf'\n"
     ]
    },
    {
     "name": "stdout",
     "output_type": "stream",
     "text": [
      "Unexpected exception formatting exception. Falling back to standard exception\n"
     ]
    },
    {
     "name": "stderr",
     "output_type": "stream",
     "text": [
      "Traceback (most recent call last):\n",
      "  File \"/home/hcleroy/anaconda3/lib/python3.8/site-packages/IPython/core/interactiveshell.py\", line 3460, in run_code\n",
      "    exec(code_obj, self.user_global_ns, self.user_ns)\n",
      "  File \"/tmp/ipykernel_19722/2204262003.py\", line 1, in <module>\n",
      "    Parallel_correlation_function(args,step_tot,1000,\"20_linker_Ell_10E3.hdf\",30,np.sqrt(ell_tot))\n",
      "  File \"/home/hcleroy/PostDoc/aging_condensates/Simulation/Evolution_of_pair_prob_distrib/Parallel_pair_correlation_HDF5.py\", line 149, in Parallel_correlation_function\n",
      "    p.join()\n",
      "  File \"/home/hcleroy/anaconda3/lib/python3.8/multiprocessing/process.py\", line 149, in join\n",
      "    res = self._popen.wait(timeout)\n",
      "  File \"/home/hcleroy/anaconda3/lib/python3.8/multiprocessing/popen_fork.py\", line 47, in wait\n",
      "    return self.poll(os.WNOHANG if timeout == 0.0 else 0)\n",
      "  File \"/home/hcleroy/anaconda3/lib/python3.8/multiprocessing/popen_fork.py\", line 27, in poll\n",
      "    pid, sts = os.waitpid(self.pid, flag)\n",
      "KeyboardInterrupt\n",
      "\n",
      "During handling of the above exception, another exception occurred:\n",
      "\n",
      "Traceback (most recent call last):\n",
      "  File \"/home/hcleroy/anaconda3/lib/python3.8/site-packages/IPython/core/interactiveshell.py\", line 2057, in showtraceback\n",
      "    stb = self.InteractiveTB.structured_traceback(\n",
      "  File \"/home/hcleroy/anaconda3/lib/python3.8/site-packages/IPython/core/ultratb.py\", line 1118, in structured_traceback\n",
      "    return FormattedTB.structured_traceback(\n",
      "  File \"/home/hcleroy/anaconda3/lib/python3.8/site-packages/IPython/core/ultratb.py\", line 1012, in structured_traceback\n",
      "    return VerboseTB.structured_traceback(\n",
      "  File \"/home/hcleroy/anaconda3/lib/python3.8/site-packages/IPython/core/ultratb.py\", line 865, in structured_traceback\n",
      "    formatted_exception = self.format_exception_as_a_whole(etype, evalue, etb, number_of_lines_of_context,\n",
      "  File \"/home/hcleroy/anaconda3/lib/python3.8/site-packages/IPython/core/ultratb.py\", line 818, in format_exception_as_a_whole\n",
      "    frames.append(self.format_record(r))\n",
      "  File \"/home/hcleroy/anaconda3/lib/python3.8/site-packages/IPython/core/ultratb.py\", line 736, in format_record\n",
      "    result += ''.join(_format_traceback_lines(frame_info.lines, Colors, self.has_colors, lvals))\n",
      "  File \"/home/hcleroy/anaconda3/lib/python3.8/site-packages/stack_data/utils.py\", line 145, in cached_property_wrapper\n",
      "    value = obj.__dict__[self.func.__name__] = self.func(obj)\n",
      "  File \"/home/hcleroy/anaconda3/lib/python3.8/site-packages/stack_data/core.py\", line 698, in lines\n",
      "    pieces = self.included_pieces\n",
      "  File \"/home/hcleroy/anaconda3/lib/python3.8/site-packages/stack_data/utils.py\", line 145, in cached_property_wrapper\n",
      "    value = obj.__dict__[self.func.__name__] = self.func(obj)\n",
      "  File \"/home/hcleroy/anaconda3/lib/python3.8/site-packages/stack_data/core.py\", line 649, in included_pieces\n",
      "    pos = scope_pieces.index(self.executing_piece)\n",
      "  File \"/home/hcleroy/anaconda3/lib/python3.8/site-packages/stack_data/utils.py\", line 145, in cached_property_wrapper\n",
      "    value = obj.__dict__[self.func.__name__] = self.func(obj)\n",
      "  File \"/home/hcleroy/anaconda3/lib/python3.8/site-packages/stack_data/core.py\", line 628, in executing_piece\n",
      "    return only(\n",
      "  File \"/home/hcleroy/anaconda3/lib/python3.8/site-packages/executing/executing.py\", line 164, in only\n",
      "    raise NotOneValueFound('Expected one value, found 0')\n",
      "executing.executing.NotOneValueFound: Expected one value, found 0\n"
     ]
    }
   ],
   "source": [
    "Parallel_correlation_function(args,step_tot,1000,\"20_linker_Ell_10E3.hdf\",30,np.sqrt(ell_tot))"
   ]
  },
  {
   "cell_type": "code",
   "execution_count": 41,
   "metadata": {},
   "outputs": [],
   "source": [
    "def histogram_float(*args, **kwargs):\n",
    "    counts, bin_edges = np.histogram(*args, **kwargs)\n",
    "    return counts.astype(float), bin_edges\n",
    "\n",
    "def unit_test(gillespie, check_steps = 100, step_tot=10**3, num_bins=30, max_distance=30):\n",
    "    counts, bin_edges = histogram_float([], bins=num_bins, range=(0, max_distance))\n",
    "    bin_centers = (bin_edges[:-1] + bin_edges[1:]) / 2\n",
    "    bin_widths = bin_edges[1:] - bin_edges[:-1]\n",
    "    shell_volumes = (4 / 3) * np.pi * ((bin_centers + bin_widths)**3 - bin_centers**3)\n",
    "    for i in range(step_tot//check_steps):\n",
    "        counts, bin_edges = histogram_float([], bins=num_bins, range=(0, max_distance))\n",
    "        prev_hist = np.zeros(counts.shape,dtype=float)\n",
    "        t_tot = 0.\n",
    "        for t in range(check_steps):\n",
    "            move, time = gillespie.evolve()\n",
    "            t_tot +=  time\n",
    "            counts += prev_hist * time\n",
    "            dist = np.linalg.norm(gillespie.get_R()[1:]-gillespie.get_R()[:-1])\n",
    "            prev_hist, bin_edges = histogram_float(dist, bins=num_bins, range=(0, max_distance))\n",
    "        counts = counts / (t_tot * shell_volumes)\n",
    "    \n",
    "    return np.stack((counts, bin_centers), axis=-1)\n"
   ]
  },
  {
   "cell_type": "code",
   "execution_count": 39,
   "metadata": {},
   "outputs": [],
   "source": [
    "gillespie = Gil.Gillespie(rho0 = 0,Nlinker=3) "
   ]
  },
  {
   "cell_type": "code",
   "execution_count": 40,
   "metadata": {},
   "outputs": [
    {
     "data": {
      "text/plain": [
       "array([[3.57524898e-02, 5.00000000e-01],\n",
       "       [0.00000000e+00, 1.50000000e+00],\n",
       "       [1.37101842e-03, 2.50000000e+00],\n",
       "       [1.09769184e-03, 3.50000000e+00],\n",
       "       [3.38849375e-04, 4.50000000e+00],\n",
       "       [5.77348360e-05, 5.50000000e+00],\n",
       "       [0.00000000e+00, 6.50000000e+00],\n",
       "       [0.00000000e+00, 7.50000000e+00],\n",
       "       [0.00000000e+00, 8.50000000e+00],\n",
       "       [0.00000000e+00, 9.50000000e+00],\n",
       "       [0.00000000e+00, 1.05000000e+01],\n",
       "       [0.00000000e+00, 1.15000000e+01],\n",
       "       [0.00000000e+00, 1.25000000e+01],\n",
       "       [0.00000000e+00, 1.35000000e+01],\n",
       "       [0.00000000e+00, 1.45000000e+01],\n",
       "       [0.00000000e+00, 1.55000000e+01],\n",
       "       [0.00000000e+00, 1.65000000e+01],\n",
       "       [0.00000000e+00, 1.75000000e+01],\n",
       "       [0.00000000e+00, 1.85000000e+01],\n",
       "       [0.00000000e+00, 1.95000000e+01],\n",
       "       [0.00000000e+00, 2.05000000e+01],\n",
       "       [0.00000000e+00, 2.15000000e+01],\n",
       "       [0.00000000e+00, 2.25000000e+01],\n",
       "       [0.00000000e+00, 2.35000000e+01],\n",
       "       [0.00000000e+00, 2.45000000e+01],\n",
       "       [0.00000000e+00, 2.55000000e+01],\n",
       "       [0.00000000e+00, 2.65000000e+01],\n",
       "       [0.00000000e+00, 2.75000000e+01],\n",
       "       [0.00000000e+00, 2.85000000e+01],\n",
       "       [0.00000000e+00, 2.95000000e+01]])"
      ]
     },
     "execution_count": 40,
     "metadata": {},
     "output_type": "execute_result"
    }
   ],
   "source": [
    "unit_test(gillespie)"
   ]
  },
  {
   "cell_type": "code",
   "execution_count": 23,
   "metadata": {},
   "outputs": [
    {
     "data": {
      "text/plain": [
       "dtype('int64')"
      ]
     },
     "execution_count": 23,
     "metadata": {},
     "output_type": "execute_result"
    }
   ],
   "source": [
    "np.histogram([])[0].dtype"
   ]
  }
 ],
 "metadata": {
  "kernelspec": {
   "display_name": "base",
   "language": "python",
   "name": "python3"
  },
  "language_info": {
   "codemirror_mode": {
    "name": "ipython",
    "version": 3
   },
   "file_extension": ".py",
   "mimetype": "text/x-python",
   "name": "python",
   "nbconvert_exporter": "python",
   "pygments_lexer": "ipython3",
   "version": "3.8.8"
  },
  "orig_nbformat": 4
 },
 "nbformat": 4,
 "nbformat_minor": 2
}
